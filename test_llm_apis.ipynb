{
 "cells": [
  {
   "cell_type": "code",
   "execution_count": 5,
   "id": "e487572e-33a2-4c9e-bd0f-0a6bd10db033",
   "metadata": {},
   "outputs": [
    {
     "name": "stdout",
     "output_type": "stream",
     "text": [
      "Defaulting to user installation because normal site-packages is not writeable\n",
      "Requirement already satisfied: requests in /usr/local/lib/python3.12/site-packages (2.32.3)\n",
      "Requirement already satisfied: charset-normalizer<4,>=2 in /usr/local/lib/python3.12/site-packages (from requests) (3.4.1)\n",
      "Requirement already satisfied: idna<4,>=2.5 in /usr/local/lib/python3.12/site-packages (from requests) (3.10)\n",
      "Requirement already satisfied: urllib3<3,>=1.21.1 in /usr/local/lib/python3.12/site-packages (from requests) (2.4.0)\n",
      "Requirement already satisfied: certifi>=2017.4.17 in /usr/local/lib/python3.12/site-packages (from requests) (2025.1.31)\n",
      "\n",
      "\u001b[1m[\u001b[0m\u001b[34;49mnotice\u001b[0m\u001b[1;39;49m]\u001b[0m\u001b[39;49m A new release of pip is available: \u001b[0m\u001b[31;49m25.0.1\u001b[0m\u001b[39;49m -> \u001b[0m\u001b[32;49m25.2\u001b[0m\n",
      "\u001b[1m[\u001b[0m\u001b[34;49mnotice\u001b[0m\u001b[1;39;49m]\u001b[0m\u001b[39;49m To update, run: \u001b[0m\u001b[32;49mpip install --upgrade pip\u001b[0m\n"
     ]
    }
   ],
   "source": [
    "!pip install requests"
   ]
  },
  {
   "cell_type": "code",
   "execution_count": 1,
   "id": "dacb6d4d-f3c6-4351-a8bf-b6148e3c76ac",
   "metadata": {
    "collapsed": true,
    "jupyter": {
     "outputs_hidden": true
    }
   },
   "outputs": [
    {
     "name": "stdin",
     "output_type": "stream",
     "text": [
      "Enter your math question:  3+5\n"
     ]
    },
    {
     "name": "stdout",
     "output_type": "stream",
     "text": [
      "\n",
      "Calling LLM api with data: {\n",
      "  \"model\": \"vertex-llama-api\",\n",
      "  \"messages\": [\n",
      "    {\n",
      "      \"role\": \"system\",\n",
      "      \"content\": \"You are a helpful math tutor. Guide the user through the solution step by step.\"\n",
      "    },\n",
      "    {\n",
      "      \"role\": \"user\",\n",
      "      \"content\": \"3+5\"\n",
      "    }\n",
      "  ]\n",
      "}\n",
      "Error: Could not connect to API at https://llmproxy-gcp.go-yubi.in/v1/chat/completions. Please check if the API is running.\n",
      "\n",
      "Failed to get response from AI\n"
     ]
    }
   ],
   "source": [
    "# Import necessary modules\n",
    "import requests\n",
    "import json\n",
    "\n",
    "# Configuration for LLM API\n",
    "LITELLM_HOST = \"llmproxy-gcp.go-yubi.in\"\n",
    "API_URL = f\"https://{LITELLM_HOST}/v1/chat/completions\"\n",
    "\n",
    "class ChatPrompt:\n",
    "    def __init__(self):\n",
    "        self.system_prompt = \"\"\n",
    "        self.user_prompt = \"\"\n",
    "    \n",
    "    def set_system_prompt(self, prompt: str):\n",
    "        self.system_prompt = prompt\n",
    "        \n",
    "    def set_user_prompt(self, prompt: str):\n",
    "        self.user_prompt = prompt\n",
    "        \n",
    "    def get_messages(self):\n",
    "        messages = []\n",
    "        if self.system_prompt:\n",
    "            messages.append({\"role\": \"system\", \"content\": self.system_prompt})\n",
    "        messages.append({\"role\": \"user\", \"content\": self.user_prompt})\n",
    "        return messages\n",
    "\n",
    "def call_llm_api(messages, model=\"vertex-llama-api\"):\n",
    "    try:\n",
    "        headers = {\n",
    "            \"Content-Type\": \"application/json\",\n",
    "        }\n",
    "        data = {\n",
    "            \"model\": model,\n",
    "            \"messages\": messages\n",
    "        }\n",
    "\n",
    "        print(f\"\\nCalling LLM api with data: {json.dumps(data, indent=2)}\")\n",
    "        \n",
    "        # Add timeout to prevent hanging\n",
    "        response = requests.post(API_URL, headers=headers, json=data, timeout=30)\n",
    "        \n",
    "        print(f\"\\nResponse status code: {response.status_code}\")\n",
    "        print(f\"Response headers: {dict(response.headers)}\")\n",
    "        \n",
    "        response.raise_for_status()\n",
    "        return response.json()\n",
    "    except requests.exceptions.Timeout:\n",
    "        print(\"Error: Request timed out. The API might be taking too long to respond.\")\n",
    "        return None\n",
    "    except requests.exceptions.ConnectionError:\n",
    "        print(f\"Error: Could not connect to API at {API_URL}. Please check if the API is running.\")\n",
    "        return None\n",
    "    except requests.exceptions.RequestException as e:\n",
    "        print(f\"HTTP Error: {str(e)}\")\n",
    "        print(f\"Response text: {e.response.text if hasattr(e, 'response') and e.response else 'No response received'}\")\n",
    "        return None\n",
    "    except Exception as e:\n",
    "        print(f\"Unexpected error: {str(e)}\")\n",
    "        return None\n",
    "\n",
    "# Example usage\n",
    "def test_models():\n",
    "    # Initialize prompt object\n",
    "    chat = ChatPrompt()\n",
    "\n",
    "    # Set system prompt\n",
    "    system_prompt = \"You are a helpful math tutor. Guide the user through the solution step by step.\"\n",
    "    chat.set_system_prompt(system_prompt)\n",
    "\n",
    "    # Set user prompt\n",
    "    user_prompt = input(\"Enter your math question: \")\n",
    "    chat.set_user_prompt(user_prompt)\n",
    "\n",
    "    # Get messages\n",
    "    messages = chat.get_messages()\n",
    "\n",
    "    # Call API\n",
    "    response = call_llm_api(messages)\n",
    "\n",
    "    if response:\n",
    "        print(\"\\nAI Response:\")\n",
    "        print(response['choices'][0]['message']['content'])\n",
    "    else:\n",
    "        print(\"\\nFailed to get response from AI\")\n",
    "\n",
    "# Run the function\n",
    "test_models()"
   ]
  },
  {
   "cell_type": "code",
   "execution_count": 3,
   "id": "04bf1e61-981c-4c4a-be9f-b8c54340dd1a",
   "metadata": {
    "collapsed": true,
    "jupyter": {
     "outputs_hidden": true
    }
   },
   "outputs": [
    {
     "name": "stdout",
     "output_type": "stream",
     "text": [
      "Testing API connection with test data: {\n",
      "  \"model\": \"vertex-llama-api\",\n",
      "  \"messages\": [\n",
      "    {\n",
      "      \"role\": \"user\",\n",
      "      \"content\": \"Hello\"\n",
      "    }\n",
      "  ]\n",
      "}\n",
      "API test failed: HTTPSConnectionPool(host='llmproxy-gcp.go-yubi.in', port=443): Max retries exceeded with url: /v1/chat/completions (Caused by SSLError(SSLCertVerificationError(1, '[SSL: CERTIFICATE_VERIFY_FAILED] certificate verify failed: unable to get local issuer certificate (_ssl.c:1010)')))\n",
      "API connection test failed. Please check:\n",
      "1. Is the Litellm service running at llmproxy-gcp.go-yubi.in?\n",
      "2. Are you connected to the correct network?\n",
      "3. Is the API URL correct?\n"
     ]
    }
   ],
   "source": [
    "def test_api_connection():\n",
    "    try:\n",
    "        test_data = {\n",
    "            \"model\": \"vertex-llama-api\",\n",
    "            \"messages\": [\n",
    "                {\"role\": \"user\", \"content\": \"Hello\"}\n",
    "            ]\n",
    "        }\n",
    "        print(f\"Testing API connection with test data: {json.dumps(test_data, indent=2)}\")\n",
    "        \n",
    "        response = requests.post(API_URL, headers={\"Content-Type\": \"application/json\"}, json=test_data, timeout=10)\n",
    "        print(f\"Test response status: {response.status_code}\")\n",
    "        print(f\"Test response body: {response.text}\")\n",
    "        \n",
    "        return response.status_code == 200\n",
    "    except Exception as e:\n",
    "        print(f\"API test failed: {str(e)}\")\n",
    "        return False\n",
    "\n",
    "# Run test before main function\n",
    "if not test_api_connection():\n",
    "    print(\"API connection test failed. Please check:\")\n",
    "    print(f\"1. Is the Litellm service running at {LITELLM_HOST}?\")\n",
    "    print(\"2. Are you connected to the correct network?\")\n",
    "    print(\"3. Is the API URL correct?\")\n",
    "else:\n",
    "    print(\"API connection test successful!\")"
   ]
  },
  {
   "cell_type": "code",
   "execution_count": null,
   "id": "65d5a5dd-6f1c-4eec-8d70-d85bb7a4b33d",
   "metadata": {
    "collapsed": true,
    "jupyter": {
     "outputs_hidden": true
    }
   },
   "outputs": [],
   "source": []
  }
 ],
 "metadata": {
  "kernelspec": {
   "display_name": "Python 3 (ipykernel)",
   "language": "python",
   "name": "python3"
  },
  "language_info": {
   "codemirror_mode": {
    "name": "ipython",
    "version": 3
   },
   "file_extension": ".py",
   "mimetype": "text/x-python",
   "name": "python",
   "nbconvert_exporter": "python",
   "pygments_lexer": "ipython3",
   "version": "3.12.10"
  }
 },
 "nbformat": 4,
 "nbformat_minor": 5
}
