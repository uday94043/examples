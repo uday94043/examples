{
 "cells": [
  {
   "cell_type": "code",
   "execution_count": null,
   "id": "ac475a9c-65ab-4ee5-a455-750b16edd6f9",
   "metadata": {},
   "outputs": [
    {
     "name": "stdout",
     "output_type": "stream",
     "text": [
      "Testing API connection and list down the models\n",
      "Test response status: 200\n",
      "Test response body: {\"data\":[{\"id\":\"gemini-2.5-flash-(US)\",\"object\":\"model\",\"created\":1677610602,\"owned_by\":\"openai\"},{\"id\":\"deepseek-model-garden\",\"object\":\"model\",\"created\":1677610602,\"owned_by\":\"openai\"},{\"id\":\"llama-3.3-70b-(US)\",\"object\":\"model\",\"created\":1677610602,\"owned_by\":\"openai\"},{\"id\":\"gemini-2.5-pro-(US)\",\"object\":\"model\",\"created\":1677610602,\"owned_by\":\"openai\"}],\"object\":\"list\"}\n",
      "API connection test successful!\n"
     ]
    }
   ],
   "source": [
    "import json\n",
    "import requests\n",
    "def list_models():\n",
    "    try:\n",
    "        print(f\"Testing API connection and list down the models\")\n",
    "        API_URL = f\"https://llmproxy-gcp.go-yubi.in/v1/models\"\n",
    "        API_KEY = \"\"\n",
    "        response = requests.get(API_URL, headers={\"Content-Type\": \"application/json\", \"Authorization\": f\"Bearer {API_KEY}\"}, timeout=10)\n",
    "        print(f\"Test response status: {response.status_code}\")\n",
    "        print(f\"Test response body: {response.text}\")\n",
    "        \n",
    "        return response.status_code == 200\n",
    "    except Exception as e:\n",
    "        print(f\"API test failed: {str(e)}\")\n",
    "        return False\n",
    "\n",
    "# Run test before main function\n",
    "if not list_models():\n",
    "    print(\"API connection test failed. Please check:\")\n",
    "    print(\"2. Are you connected to the correct network?\")\n",
    "    print(\"3. Is the API URL correct?\")\n",
    "else:\n",
    "    print(\"API connection test successful!\")"
   ]
  },
  {
   "cell_type": "code",
   "execution_count": null,
   "id": "24843212-cf7f-4af2-8967-00ac99be7393",
   "metadata": {},
   "outputs": [],
   "source": []
  }
 ],
 "metadata": {
  "kernelspec": {
   "display_name": "Python 3 (ipykernel)",
   "language": "python",
   "name": "python3"
  },
  "language_info": {
   "codemirror_mode": {
    "name": "ipython",
    "version": 3
   },
   "file_extension": ".py",
   "mimetype": "text/x-python",
   "name": "python",
   "nbconvert_exporter": "python",
   "pygments_lexer": "ipython3",
   "version": "3.11.6"
  }
 },
 "nbformat": 4,
 "nbformat_minor": 5
}
